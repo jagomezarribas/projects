{
 "cells": [
  {
   "cell_type": "markdown",
   "id": "7e337bb6",
   "metadata": {},
   "source": [
    "<h1>Algoritmo HHL para la resolución de sistemas de ecuaciones lineales.</h1>"
   ]
  },
  {
   "cell_type": "markdown",
   "id": "d9e41d18",
   "metadata": {},
   "source": [
    "<h2>1. Introducción</h2>"
   ]
  },
  {
   "cell_type": "markdown",
   "id": "23b7e9cc",
   "metadata": {},
   "source": [
    "<text>Todos recordamos del colegio o de algunas asignaturas de matemáticas de la carrera qué era un sistema de  ecuaciones lineales y su forma.</text>"
   ]
  },
  {
   "cell_type": "markdown",
   "id": "462e1bf3",
   "metadata": {},
   "source": [
    "<img src=\"sisecu.jpeg\">"
   ]
  },
  {
   "cell_type": "markdown",
   "id": "01b89fb4",
   "metadata": {},
   "source": [
    "<text>Se ha demostrado que el algoritmo HHL es mucho más eficiente que cualquier algoritmo clásico pero bajo una serie de restricciones en el procedimiento. Este algoritmo ha sido desarrollado por Aram Harrow(H), Avinatan Hassidim(H) y Seth Lloyd(L) y presentado en 2009, pero no fue implementado hasta 2013 y finalmente se demostró su funcionamiento y su eficiencia en 2018.</text>"
   ]
  },
  {
   "cell_type": "markdown",
   "id": "98a7ca3d",
   "metadata": {},
   "source": [
    "<text>Este algoritmo trata de dar una solución más rápida respecto utilizando computadores cuánticos respecto a los clásicos. Debemos comprender que para resolver estos sistemas de ecuaciones debemos transformar la forma que hemos visto anteriormente a la siguiente:\n",
    "</text>"
   ]
  },
  {
   "cell_type": "markdown",
   "id": "0620fd47",
   "metadata": {},
   "source": [
    "<h3>$$A\\vec{x}=\\vec{b}$$</h3>"
   ]
  },
  {
   "cell_type": "markdown",
   "id": "8c67495a",
   "metadata": {},
   "source": [
    "<text>Ser consciente de las restricciones de este algoritmo es de vital importancia para comprenderlo. $A$ se trata de una matriz invertible y hermitiana, esta última característica quiere decir que se trata de una matriz que coincide con su matriz transpuesta conjugada. Además $\\vec{b}$ se trata de un vector unitario. Vamos a tratar esta fórmula con el lenguaje correspondiente:</text>"
   ]
  },
  {
   "cell_type": "markdown",
   "id": "9b80af4b",
   "metadata": {},
   "source": [
    "<h3>$$A|x⟩=|b⟩$$</h3>"
   ]
  },
  {
   "cell_type": "markdown",
   "id": "f1d5a2f7",
   "metadata": {},
   "source": [
    "<h2>2. Preparación para el Algoritmo HHL.</h2>"
   ]
  },
  {
   "cell_type": "markdown",
   "id": "b828cdfe",
   "metadata": {},
   "source": [
    "<text>Si $A$ es hermítica podemos realizar las siguientes descomposiciones. La fórmula se traduce en la suma de los autovalores por el producto interno de los autovectores. Los autovectores forman una base ortonormal en el espacio en el que trabajamos, es decir, podemos descomponer cualquier estado por una combinación lineal de los autovectores, es decir, podemos descomponer b en la siguiente fórmula.</text>"
   ]
  },
  {
   "cell_type": "markdown",
   "id": "a92b27bc",
   "metadata": {},
   "source": [
    "<h3>$$A=\\sum_{i}\\lambda_i \\left| u_i \\right\\rangle \\left\\langle u_i \\right|$$</h3>"
   ]
  },
  {
   "cell_type": "markdown",
   "id": "a0b873a3",
   "metadata": {},
   "source": [
    "<h3>$$\\left| b \\right\\rangle = \\sum_{i}b_i \\left| u_i \\right\\rangle$$</h3>"
   ]
  },
  {
   "cell_type": "markdown",
   "id": "fb93c28d",
   "metadata": {},
   "source": [
    "<text>Como $A$ es invertible podemos coger la primera fórmula y desarrollarla para sacar $A^{-1}.$</text>"
   ]
  },
  {
   "cell_type": "markdown",
   "id": "6658477f",
   "metadata": {},
   "source": [
    "<h3>$$A^{-1}=\\sum_{i}\\frac{1}{\\lambda_i} \\left| u_i \\right\\rangle \\left\\langle u_i \\right|$$</h3>"
   ]
  },
  {
   "cell_type": "markdown",
   "id": "dad11e03",
   "metadata": {},
   "source": [
    "<text>Por tanto, si queremos despejar $|x⟩$ en la fórmula original $A|x⟩=|b⟩$, debemos aplicar las igualdades anteriores quedando así la fórmula $|x⟩=A^{-1}|b⟩$ y en cosnsecuencia la siguiente sentencia:</text>"
   ]
  },
  {
   "cell_type": "markdown",
   "id": "ee1397b9",
   "metadata": {},
   "source": [
    "<h3>$$\\left| x \\right\\rangle=\\sum_{i}\\frac{b_i}{\\lambda_i} \\left| u_i \\right\\rangle$$</h3>"
   ]
  },
  {
   "cell_type": "markdown",
   "id": "645c2013",
   "metadata": {},
   "source": [
    "<h3>2.1. Autovalores y Autovectores de $A$.</h3>"
   ]
  },
  {
   "cell_type": "markdown",
   "id": "0b638875",
   "metadata": {},
   "source": [
    "<text>Para comprender mejor el desarrollo del algoritmo voy a explicar primero que son los autovalores y los autovectores. El autovector de una matriz $A$ es aquel que multiplicado por $A$ nos resulta un autovalor de $A$ por el mismo autovector.</text>"
   ]
  },
  {
   "cell_type": "markdown",
   "id": "ec556f7c",
   "metadata": {},
   "source": [
    "<h3>$$A\\vec{v}=\\lambda\\vec{v}$$</h3>"
   ]
  },
  {
   "cell_type": "markdown",
   "id": "ec631ea2",
   "metadata": {},
   "source": [
    "<text>$A$: matriz.           $\\vec{v}$: autovector.         $\\lambda$: autovalor.\n",
    "    \n",
    "</text>"
   ]
  },
  {
   "cell_type": "markdown",
   "id": "370ae966",
   "metadata": {},
   "source": [
    "<b>Ejemplo</b>"
   ]
  },
  {
   "cell_type": "markdown",
   "id": "b2bb62ac",
   "metadata": {},
   "source": [
    "$\\begin{pmatrix} 0& 1 \\\\1& 0\\\\ \\end{pmatrix}$\n",
    "$\\begin{pmatrix}1 \\\\-1\\\\ \\end{pmatrix}$\n",
    "$=\n",
    "-1$\n",
    "$\\begin{pmatrix}1 \\\\-1\\\\\\end{pmatrix}$"
   ]
  },
  {
   "cell_type": "markdown",
   "id": "b5ce31c2",
   "metadata": {},
   "source": [
    "<h3>2.2. Quantum Phase Estimation (QPE).</h3>"
   ]
  },
  {
   "cell_type": "markdown",
   "id": "eb0c24d9",
   "metadata": {},
   "source": [
    "<text>Antes de desarrollar el algoritmo debemos saber qué es la Quantum Phase Estimation(QPE). Se trata de una subrutina muy utilizada en los algoritmos cuánticos junto con la QFT. El QPE es una analogía cuántica del cálculo de autovalores y autovectores de una matriz.</text>"
   ]
  },
  {
   "cell_type": "markdown",
   "id": "cd6b3e86",
   "metadata": {},
   "source": [
    "<h3>$$U|\\varphi⟩=\\lambda|\\varphi⟩$$</h3>"
   ]
  },
  {
   "cell_type": "markdown",
   "id": "a87041df",
   "metadata": {},
   "source": [
    "<text>Debido a que la norma de los autovalores es 1 debido a que trabajamos con matrices unitarias(qubits, puertas cuánticas...), podemos representar $\\lambda$ como $e^{2\\pi i \\theta}$. Debemos saber que $|\\varphi⟩$ es la fase cuando trabajamos con números complejos.</text>"
   ]
  },
  {
   "cell_type": "markdown",
   "id": "c3a470ad",
   "metadata": {},
   "source": [
    "<img src=\"qpe.png\">"
   ]
  },
  {
   "cell_type": "markdown",
   "id": "3a1a5581",
   "metadata": {},
   "source": [
    "<text>El QPE se encarga de resolver esto, de sacar lo que vale $|\\varphi⟩$. Por eso es tan importante conocer mínimamente lo que hace el QPE para desarrollar el HHL.</text>"
   ]
  },
  {
   "cell_type": "markdown",
   "id": "019017ca",
   "metadata": {},
   "source": [
    "<h2>3. Desarrollo matemático del Algoritmo HHL.</h2>"
   ]
  },
  {
   "cell_type": "markdown",
   "id": "336878d4",
   "metadata": {},
   "source": [
    "<img src=\"hhlcircuit.png\">"
   ]
  },
  {
   "cell_type": "markdown",
   "id": "f83e1766",
   "metadata": {},
   "source": [
    "<h3>3.1. Carga de $|b⟩$.</h3>"
   ]
  },
  {
   "cell_type": "markdown",
   "id": "7b9d7258",
   "metadata": {},
   "source": [
    "<text>Debemos cargar $|b⟩$ que va a ser nuestra entrada. Como hemos visto enteriormente, podemos desarrollar $|b⟩$ como:</text>"
   ]
  },
  {
   "cell_type": "markdown",
   "id": "285a4b28",
   "metadata": {},
   "source": [
    "<h3>$$\\left| b \\right\\rangle = \\sum_{i}b_i \\left| u_i \\right\\rangle$$</h3>"
   ]
  },
  {
   "cell_type": "markdown",
   "id": "5978e0c0",
   "metadata": {},
   "source": [
    "<h3>3.2. Aplicamos QPE.</h3>"
   ]
  },
  {
   "cell_type": "markdown",
   "id": "94649829",
   "metadata": {},
   "source": [
    "<h3>$$U =e^{iAt}:= \\sum_{j}e^{i\\lambda_{j}t} \\left| u_j \\right\\rangle \\left\\langle u_i \\right|$$</h3>"
   ]
  },
  {
   "cell_type": "markdown",
   "id": "feceef02",
   "metadata": {},
   "source": [
    "<text>Sabemos que A es hermitiana y que sus datos son los siguientes: </text>"
   ]
  },
  {
   "cell_type": "markdown",
   "id": "30b61c19",
   "metadata": {},
   "source": [
    "<text>Autovalores de A: \n",
    "    </text><h3>$\\left\\{ \\lambda_{1},...,\\lambda_{N} \\right\\}\n",
    "    \\rightarrow \\left\\{ e^{i\\lambda_{1}},...,e^{i\\lambda_{1}} \\right\\}$\n",
    "    </h3>"
   ]
  },
  {
   "cell_type": "markdown",
   "id": "e5759b3a",
   "metadata": {},
   "source": [
    "<text>Autovectores de A: \n",
    "    </text><h3>$\\left\\{ \\left| u_1 \\right\\rangle ,...,\\left| u_N \\right\\rangle\\right\\} $</h3>"
   ]
  },
  {
   "cell_type": "markdown",
   "id": "b5a2a47c",
   "metadata": {},
   "source": [
    "<text>Nos queda de la siguiente manera:</text>"
   ]
  },
  {
   "cell_type": "markdown",
   "id": "50b8b5e5",
   "metadata": {},
   "source": [
    "<h3>$$\\sum_{j}b_{i} \\left| u_j \\right\\rangle \\left| \\lambda_j \\right\\rangle$$</h3>"
   ]
  },
  {
   "cell_type": "markdown",
   "id": "a8507d14",
   "metadata": {},
   "source": [
    "<h3>3.3. Inversión y rotación por $\\lambda$</h3>"
   ]
  },
  {
   "cell_type": "markdown",
   "id": "dc560ea3",
   "metadata": {},
   "source": [
    "<h3>$$\\sum_{j=0}^{N-1}b_j\\left| \\lambda_j \\right> \\left| u_j \\right> \\left ( \\sqrt{1-\\frac{C^2}{\\lambda_j^2}} \\left| 0 \\right> + \\frac{C}{\\lambda_j} \\left| 1 \\right>\\right )$$</h3>"
   ]
  },
  {
   "cell_type": "markdown",
   "id": "fdc33d28",
   "metadata": {},
   "source": [
    "<text>$C$ es una constante de normalización.</text>"
   ]
  },
  {
   "cell_type": "markdown",
   "id": "07ce283d",
   "metadata": {},
   "source": [
    "<h3>3.4. Inversión y post-elección.</h3>"
   ]
  },
  {
   "cell_type": "markdown",
   "id": "ba4156a6",
   "metadata": {},
   "source": [
    "<text>La post-selección se trata de medir el estado y seleccionar según la salida. En nuestro caso si sale 1 continuamos, si sale 0 reiniciamos nuestros pasos de nuevo. Cuando observamos ese 1 obtenemos el estado siguiente:</text>"
   ]
  },
  {
   "cell_type": "markdown",
   "id": "c5a67cc1",
   "metadata": {},
   "source": [
    "<h3>$$K\\sum_{j=0}^{N-1}\\frac{b_j}{\\lambda_j}\\left|u_i \\right> \\left|\\frac{1}{\\lambda_j} \\right>$$</h3>"
   ]
  },
  {
   "cell_type": "markdown",
   "id": "d921d4c4",
   "metadata": {},
   "source": [
    "<text>Para poder decir:</text>"
   ]
  },
  {
   "cell_type": "markdown",
   "id": "1c058194",
   "metadata": {},
   "source": [
    "<h3>$$\\left|x \\right> = K\\sum_{j=0}^{N-1}\\frac{b_j}{\\lambda_j}\\left|u_i \\right> \\left|\\frac{1}{\\lambda_j} \\right>$$</h3>"
   ]
  },
  {
   "cell_type": "markdown",
   "id": "ffa647f7",
   "metadata": {},
   "source": [
    "<h3>3.5. Aplicamos la QPE inversa e inversión.</h3>"
   ]
  },
  {
   "cell_type": "markdown",
   "id": "7c365007",
   "metadata": {},
   "source": [
    "<text>No debería haber ningún tipo de entrelazamiento entre para que el algoritmo funcione y aún así se está produciendo.</text>"
   ]
  },
  {
   "cell_type": "markdown",
   "id": "4a0520f8",
   "metadata": {},
   "source": [
    "<h3>$$K\\sum_{j=0}^{N-1}\\frac{b_j}{\\lambda_j}\\left|u_i \\right>$$</h3>"
   ]
  },
  {
   "cell_type": "markdown",
   "id": "45371d36",
   "metadata": {},
   "source": [
    "<h2>4. Operador Inversión.</h2>"
   ]
  },
  {
   "cell_type": "markdown",
   "id": "d839ba3b",
   "metadata": {},
   "source": [
    "<text> Ya hemos visto un poco de qué va la QPE y lo importante que es para nuestro circuito. Pero aún debemos saber qué es y cómo funciona el operador inversión que hemos mencionado. Matemáticamente hemos distinguido la inversión de nuestro estado de la rotación, pero en qiskit todo el paso de invertir-rotar-desinvertir, se hace en un mismo módulo. Este operador no se suele programar de manera eficiente y tampoco lo haremos nosotros. Se trata de una puerta que se representa así:</text>"
   ]
  },
  {
   "cell_type": "markdown",
   "id": "4dada94c",
   "metadata": {},
   "source": [
    "<h3>$$Ry(2\\theta) = \\begin{pmatrix} cos\\theta & -sen\\theta \\\\ sen\\theta & cos\\theta\\\\ \\end{pmatrix}$$</h3>"
   ]
  },
  {
   "cell_type": "markdown",
   "id": "8c293d94",
   "metadata": {},
   "source": [
    "<text>Si sometemos un qubit a esta puerta, provocaremos una rotación del estado del qubit en función de lo que digamos que valga $\\theta$. Decimos que no es un operador eficiente porque utiliza $n(2^{n})$ puertas Toffoli y es muy costoso.</text>"
   ]
  },
  {
   "cell_type": "markdown",
   "id": "138fb8fa",
   "metadata": {},
   "source": [
    "<text>Si queremos programar de forma eficiente este operador podemos hacer un circuito de n qubits, y someter cada uno a una puerta de control, de tal manera que, si el $q_0$ está a $1$ haremos una rotación de 1, si el $q_1$ está a $1$, rotamos a un medio el estado, si el $q_2$ está a $1$, haremos una rotación de un cuarto, y así sucesivamente.\n",
    "    El problema de esta optimización es que con las inversas de los números no podemos operar correctamente.<text>"
   ]
  },
  {
   "cell_type": "markdown",
   "id": "1385e7ca",
   "metadata": {},
   "source": [
    "<h2>5. Programación e implementación del Algoritmo HHL.</h2>"
   ]
  },
  {
   "cell_type": "markdown",
   "id": "2aa78dc5",
   "metadata": {},
   "source": [
    "<b>1. Nuestro primer paso es importar las librerías necesarias: </b><text>Numpy para realizar operaciones vectoriales y linear_solver para la resolución de sistemas lineales. Declaramos también nuestra matriz hermítica, $\\left|b \\right>$ y la solución.</text>"
   ]
  },
  {
   "cell_type": "code",
   "execution_count": 6,
   "id": "60821835",
   "metadata": {},
   "outputs": [],
   "source": [
    "import numpy as np\n",
    "from qiskit.algorithms.linear_solvers.numpy_linear_solver import NumPyLinearSolver\n",
    "from qiskit.algorithms.linear_solvers.hhl import HHL\n",
    "matriz = np.array([[1, -1/3], [-1/3, 1]])r\n",
    "vector = np.array([1, 0])\n",
    "solucion_ingenua = HHL().solve(matriz, vector)\n",
    "solucion_clasica = NumPyLinearSolver().solve(matriz, vector / np.linalg.norm(vector))"
   ]
  },
  {
   "cell_type": "code",
   "execution_count": 7,
   "id": "6c6a1534",
   "metadata": {},
   "outputs": [
    {
     "name": "stdout",
     "output_type": "stream",
     "text": [
      "classical state: [1.125 0.375]\n"
     ]
    }
   ],
   "source": [
    "print('classical state:', solucion_clasica.state)"
   ]
  },
  {
   "cell_type": "code",
   "execution_count": 9,
   "id": "010d0ff3",
   "metadata": {},
   "outputs": [
    {
     "name": "stdout",
     "output_type": "stream",
     "text": [
      "naive state:\n",
      "      ┌────────────┐┌──────┐        ┌─────────┐\n",
      "  q4: ┤ circuit-85 ├┤3     ├────────┤3        ├\n",
      "      └────────────┘│      │┌──────┐│         │\n",
      "q5_0: ──────────────┤0     ├┤2     ├┤0        ├\n",
      "                    │  QPE ││      ││  QPE_dg │\n",
      "q5_1: ──────────────┤1     ├┤1     ├┤1        ├\n",
      "                    │      ││  1/x ││         │\n",
      "q5_2: ──────────────┤2     ├┤0     ├┤2        ├\n",
      "                    └──────┘│      │└─────────┘\n",
      "  q6: ──────────────────────┤3     ├───────────\n",
      "                            └──────┘           \n"
     ]
    }
   ],
   "source": [
    "print('naive state:')\n",
    "print(naive_hhl_solution.state)"
   ]
  },
  {
   "cell_type": "code",
   "execution_count": 11,
   "id": "b88d135c",
   "metadata": {},
   "outputs": [
    {
     "name": "stdout",
     "output_type": "stream",
     "text": [
      "classical Euclidean norm: 1.1858541225631423\n",
      "naive Euclidean norm: 1.1858541225631376\n"
     ]
    }
   ],
   "source": [
    "print('classical Euclidean norm:', solucion_clasica.euclidean_norm)\n",
    "print('naive Euclidean norm:', solucion_ingenua.euclidean_norm)"
   ]
  },
  {
   "cell_type": "code",
   "execution_count": 15,
   "id": "1a073855",
   "metadata": {},
   "outputs": [
    {
     "name": "stdout",
     "output_type": "stream",
     "text": [
      "{'00': 532, '11': 492}\n",
      "            ┌───┐                      \n",
      "q77_0: ─────┤ H ├────────■─────────────\n",
      "       ┌────┴───┴─────┐┌─┴─┐     ┌─┐   \n",
      "q77_1: ┤ U1(-0.88608) ├┤ X ├──■──┤M├───\n",
      "       ├─────────────┬┘└───┘┌─┴─┐└╥┘┌─┐\n",
      "q77_2: ┤ U1(-1.3694) ├──────┤ X ├─╫─┤M├\n",
      "       └─────────────┘      └───┘ ║ └╥┘\n",
      " c7: 2/═══════════════════════════╩══╩═\n",
      "                                  0  1 \n"
     ]
    },
    {
     "name": "stderr",
     "output_type": "stream",
     "text": [
      "/tmp/ipykernel_1940/1948563154.py:22: DeprecationWarning: The QuantumCircuit.u1 method is deprecated as of 0.16.0. It will be removed no earlier than 3 months after the release date. You should use the QuantumCircuit.p method instead, which acts identically.\n",
      "  qc.u1(-beta, q[1])\n",
      "/tmp/ipykernel_1940/1948563154.py:23: DeprecationWarning: The QuantumCircuit.u1 method is deprecated as of 0.16.0. It will be removed no earlier than 3 months after the release date. You should use the QuantumCircuit.p method instead, which acts identically.\n",
      "  qc.u1(-alpha, q[2])\n"
     ]
    },
    {
     "data": {
      "image/png": "[encoded data removed]",
      "text/plain": [
       "<Figure size 504x360 with 1 Axes>"
      ]
     },
     "execution_count": 15,
     "metadata": {},
     "output_type": "execute_result"
    }
   ],
   "source": [
    "from qiskit import QuantumCircuit, ClassicalRegister, QuantumRegister\n",
    "from qiskit import Aer, execute\n",
    "from qiskit.tools.visualization import plot_histogram\n",
    "#from qiskit.aqua.components.initial_states import Custom\n",
    "\n",
    "# Define la matriz de entrada A y el vector b\n",
    "A = np.array([[1, 0], [0, 2]])\n",
    "b = np.array([1, 1])\n",
    "\n",
    "# Calcula los parámetros necesarios\n",
    "theta = np.arcsin(np.linalg.norm(b) / np.linalg.norm(np.dot(A, b)))\n",
    "alpha = 2 * theta\n",
    "beta = np.arccos(np.sqrt(np.max(np.linalg.eigvals(A))) / np.linalg.norm(A))\n",
    "\n",
    "# Crea el circuito cuántico\n",
    "q = QuantumRegister(3)\n",
    "c = ClassicalRegister(2)\n",
    "qc = QuantumCircuit(q, c)\n",
    "\n",
    "# Añade la transformada de Fourier cuántica (QFT)\n",
    "qc.h(q[0])\n",
    "qc.u1(-beta, q[1])\n",
    "qc.u1(-alpha, q[2])\n",
    "qc.cx(q[0], q[1])\n",
    "qc.cx(q[1], q[2])\n",
    "\n",
    "# Realiza la medición\n",
    "qc.measure(q[1], c[0])\n",
    "qc.measure(q[2], c[1])\n",
    "\n",
    "# Ejecuta el circuito\n",
    "backend = Aer.get_backend('qasm_simulator')\n",
    "job = execute(qc, backend, shots=1024)\n",
    "result = job.result()\n",
    "\n",
    "\n",
    "# Imprime los resultados\n",
    "counts = result.get_counts(qc)\n",
    "print(counts)\n",
    "print(qc)\n",
    "plot_histogram(counts)\n"
   ]
  }
 ],
 "metadata": {
  "kernelspec": {
   "display_name": "Python 3 (ipykernel)",
   "language": "python",
   "name": "python3"
  },
  "language_info": {
   "codemirror_mode": {
    "name": "ipython",
    "version": 3
   },
   "file_extension": ".py",
   "mimetype": "text/x-python",
   "name": "python",
   "nbconvert_exporter": "python",
   "pygments_lexer": "ipython3",
   "version": "3.9.12"
  }
 },
 "nbformat": 4,
 "nbformat_minor": 5
}
